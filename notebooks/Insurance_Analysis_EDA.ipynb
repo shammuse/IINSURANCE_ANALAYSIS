import sys
import os
import pandas as pd

script_dir=r'E:\code\WEEK3\IINSURANCE_ANALAYSIS\scripts'
src_dir = r'E:\code\WEEK3\IINSURANCE_ANALAYSIS\src'
data_dir = r'E:\code\WEEK3\IINSURANCE_ANALAYSIS\data'
sys.path.append(script_dir)
sys.path.append(src_dir)
sys.path.append(data_dir)
from utils import InsuranceDataUtils




txt_file_path = r'E:\code\WEEK3\IINSURANCE_ANALAYSIS\data\MachineLearningRating_v3.txt'
df = pd.read_csv(txt_file_path, delimiter='|', encoding='utf-8', low_memory=False)
# Ensure the data directory exists
if not os.path.exists(data_dir):
    os.makedirs(data_dir)
# Define path for the CSV file
csv_file_path = os.path.join(data_dir, 'raw_data.csv')
# Save the DataFrame to a CSV file
df.to_csv(csv_file_path, index=False)


csv_file_path = r'E:\code\WEEK3\IINSURANCE_ANALAYSIS\data\raw_data.csv'
# Load the CSV file into a DataFrame
df = pd.read_csv(csv_file_path, low_memory=False)

df.head()


utils = InsuranceDataUtils(df)
# Get descriptive statistics for numerical features
variability = utils.descriptive_statistics()
print("Descriptive Statistics:\n", variability)

# Review the data structure
column_types = utils.data_structure()
print("\nData Structure:\n", column_types)


missing_values = df.isnull().sum()

# Display columns with missing values
missing_values_summary = missing_values[missing_values > 0]

print("Missing Values Summary:")
print(missing_values_summary)



# Create an instance of InsuranceDataUtils
utils = InsuranceDataUtils(df)

# Handle missing values
df_cleaned = utils.handle_missing_values()

# Check the result
print("Missing Values Summary:")
print(df_cleaned.isnull().sum())



# Save the cleaned DataFrame to a CSV file
cleaned_csv_file_path = r'E:\code\WEEK3\IINSURANCE_ANALAYSIS\data\cleaned_data.csv'
df_cleaned.to_csv(cleaned_csv_file_path, index=False)




import pandas as pd
cleaned_csv_file_path = r'E:\code\WEEK3\IINSURANCE_ANALAYSIS\data\cleaned_data.csv'
df_cleaned= pd.read_csv(cleaned_csv_file_path, low_memory=False)
analysis = InsuranceDataUtils(df_cleaned)
analysis.univariate_analysis()


import pandas as pd
cleaned_csv_file_path = r'E:\code\WEEK3\IINSURANCE_ANALAYSIS\data\cleaned_data.csv'
df_cleaned= pd.read_csv(cleaned_csv_file_path, low_memory=False)
analysis = InsuranceDataUtils(df_cleaned)
analysis.bivariate_analysis()


import pandas as pd
cleaned_csv_file_path = r'E:\code\WEEK3\IINSURANCE_ANALAYSIS\data\cleaned_data.csv'
df_cleaned= pd.read_csv(cleaned_csv_file_path, low_memory=False)
print(df_cleaned.columns)
print(df_cleaned['Province'].head())

insurance_utils = InsuranceDataUtils(df_cleaned)
insurance_utils.preprocess_data()
#insurance_utils.compare_data()
# Detect outliers
insurance_utils.detect_outliers()
# Produce creative and beautiful plots
insurance_utils.visualize_data()
